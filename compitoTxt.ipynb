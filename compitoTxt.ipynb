{
 "cells": [
  {
   "cell_type": "markdown",
   "id": "48ae12da-7adc-44e0-aaa7-0c8a45e09830",
   "metadata": {},
   "source": [
    "## Compito\n",
    "* cercate un testo letterario in formato .txt.\n",
    "* leggete in file.\n",
    "* Create un dizionario che ha come chiavi tutti i caratteri presenti nel file .txt e come valore la frequenza assoluta del carattere nel testo\n",
    "* Creata un dizionario che ha come chiavi tutti i caratteri presenti nel file .txt e come valori delle list. La lista contiene tutti i caratteri successori della lettera usata come chiave. Va bene che la lista contiene doppioni. "
   ]
  },
  {
   "cell_type": "code",
   "execution_count": 1,
   "id": "ea36e0df-1fca-44db-aa76-eac920e99a31",
   "metadata": {},
   "outputs": [],
   "source": [
    "chars = {}\n",
    "chars_next = {}"
   ]
  },
  {
   "cell_type": "code",
   "execution_count": 2,
   "id": "f89726c0-d3a1-4d5e-8d79-f626d6c58abc",
   "metadata": {},
   "outputs": [],
   "source": [
    "file = open(\"text.txt\", \"r\")\n",
    "text = file.read().strip().strip()\n",
    "#print(text)"
   ]
  },
  {
   "cell_type": "code",
   "execution_count": 3,
   "id": "5fa595ee-31ea-4cc8-bffc-67a03717455f",
   "metadata": {},
   "outputs": [],
   "source": [
    "for i, v in enumerate(text):\n",
    "    if v in chars:\n",
    "        chars[v] = chars[v] + 1\n",
    "    else:\n",
    "        chars[v] = 1"
   ]
  },
  {
   "cell_type": "code",
   "execution_count": 4,
   "id": "3f7b45e3-532e-48bf-9ec1-aeb57abf4f7a",
   "metadata": {
    "scrolled": true
   },
   "outputs": [
    {
     "name": "stdout",
     "output_type": "stream",
     "text": [
      "{'C': 2, 'h': 107, 'a': 126, 'p': 29, 't': 161, 'e': 196, 'r': 98, ' ': 386, 'i': 119, '\\n': 8, 'I': 9, 'w': 51, 's': 99, 'b': 22, 'g': 38, 'c': 47, 'o': 130, 'l': 78, 'd': 73, 'y': 30, 'n': 104, 'A': 3, ',': 25, 'k': 13, '.': 20, 'W': 6, 'S': 2, 'm': 37, 'u': 51, 'z': 5, 'f': 52, 'v': 20, 'q': 3, 'V': 1, 'M': 1, 'T': 6, ':': 2, '-': 6, 'E': 2, 'H': 5, 'O': 4, 'B': 2, 'G': 2, 'R': 2, 'N': 1, 'Y': 1, 'U': 1, '(': 1, ')': 1, 'j': 1, 'D': 1}\n"
     ]
    }
   ],
   "source": [
    "print(chars)"
   ]
  },
  {
   "cell_type": "code",
   "execution_count": 5,
   "id": "760d145d-6399-42fb-9fd9-66b1b6df7fca",
   "metadata": {},
   "outputs": [],
   "source": [
    "for i, v in enumerate(text[:-1]):\n",
    "    if v not in chars_next:\n",
    "        chars_next[v] = []\n",
    "    chars_next[v].append(text[i+1])"
   ]
  },
  {
   "cell_type": "code",
   "execution_count": 6,
   "id": "891085fb-bf0b-439a-92d8-6e43abdd6e1f",
   "metadata": {
    "scrolled": true
   },
   "outputs": [
    {
     "name": "stdout",
     "output_type": "stream",
     "text": [
      "{'C': ['h', 'H'], 'h': ['a', 't', 'e', 'i', ',', 'i', 'i', 'i', 'e', 'r', ' ', 'e', 'o', ' ', ' ', ' ', 'i', 'e', 'a', 'a', 'e', 'a', 'e', ' ', 'e', 'e', 'a', 'e', 'e', 'e', 'e', 't', 'o', 'e', 'e', 't', 'o', 'i', 'a', 'i', 't', 'e', ' ', 'e', 'a', 'e', ' ', 'e', 'e', 'o', 'i', ' ', 'a', 'e', 'e', 'e', ' ', 'e', 'i', ' ', 'a', 'i', ' ', 'e', 'e', 'i', ' ', 'e', 'e', 't', 'a', ' ', 'e', 'a', 'o', ' ', 'e', 'a', 'e', 'e', 'e', 'u', 'e', ',', 'e', 'i', 'a', 'e', 'i', ' ', 'e', 'e', 'a', 'i', 'i', 'e', 'e', 'e', 'a', 'a', 'r', ' ', 'e', 'u', 'e', 'e', 'i'], 'a': ['p', 's', ' ', 'y', 'n', 's', 'n', 'p', 's', 'n', ' ', 'l', 'l', 'y', 'b', 'g', 'n', 'g', 't', ' ', 'r', 'y', 'd', 'c', 'l', 'n', 'c', 'n', ' ', 'c', ' ', 'n', 'b', ' ', 'v', 'c', 'c', 'n', 'n', 't', 'd', 'i', 's', 't', 's', 'n', 't', 's', 'y', 's', 'r', 'r', 't', 't', 't', 's', 'n', 's', 'n', 'd', ' ', 'r', 'b', 'n', 'l', 'y', 'c', 'n', 'f', 'c', 'z', 'l', 's', 'r', 't', 'b', 'p', 't', 'n', 't', ' ', 's', 'd', ' ', 'd', 'm', 'n', 'l', 'q', ' ', 'r', 'c', 'n', 'l', ' ', 'n', 'n', 't', 'b', 's', 'l', 's', 'y', ' ', 'l', 'i', 'g', 's', 'l', 'r', 'i', 's', 'i', 'c', 't', 'l', 'n', 'r', 'p', 'n', 'z', 'd', 'n', 't', 'd', 'n'], 'p': ['t', 'r', 'e', 'p', 'e', 'r', 'o', 'l', 'i', 'l', 'r', 'a', 'r', 'a', ',', 'p', 'o', 'o', 'i', 't', 'r', 'i', 'l', 'a', 'l', 'h', 'a', ' ', 'a'], 't': ['e', ' ', ' ', 'h', 'r', 'h', 'e', 'o', 'h', 'o', ' ', ' ', 'o', 'h', 'h', 'h', 'o', 'h', ' ', 'o', ' ', 't', 'y', ' ', 'e', 'h', ' ', 's', ' ', ' ', 'e', 'o', 'a', 'o', 'h', ' ', 'e', 'h', 'r', 'h', ' ', 'y', 'h', 'a', 'u', 'o', 'h', 'a', ' ', 'r', 'h', '.', ' ', 'h', ' ', 'i', ' ', ' ', ' ', 'h', 'r', ' ', ' ', ' ', ' ', ' ', 'h', 'i', 'e', ' ', 's', 'o', 'h', 'y', ' ', ' ', 'i', 'i', 'h', 'e', 'h', '-', ',', 'h', 'e', 'h', 'h', 'h', ' ', 'h', 'u', 'r', 'h', ' ', 'h', ' ', 'h', 'i', 'h', ' ', 'h', ' ', 'y', ' ', ' ', 'h', 'o', 'h', 'h', 'i', 'a', ' ', 'h', 'h', '-', 'o', 'u', 'c', 'h', ',', 'h', 'h', 'i', 'i', 'r', ' ', 'h', 'e', ' ', ' ', 'h', 't', 'i', ' ', 'e', 'o', 'h', 'h', 'h', 'h', 'h', 'y', 'u', ' ', 'h', 'h', 'e', 'h', ' ', ' ', 's', 'h', 'h', ' ', 'h', 'h', 'r', ' ', 't', 'l'], 'e': ['r', ' ', 'r', ' ', 'e', 'n', 'd', 'a', 'f', 's', ' ', ' ', ' ', 'd', ' ', 'n', 'v', 'n', 'n', 'r', ' ', 'l', 'd', ' ', ' ', 'n', 'd', 'r', ' ', 'e', 'n', 'd', ' ', 'p', 'd', 'n', ',', ' ', 't', ' ', ':', ' ', ' ', ',', 'a', ' ', 'd', ' ', 'a', 's', ' ', ' ', ' ', ' ', 'n', ' ', 's', 's', 'l', 's', 'n', ' ', 'l', 'c', 'n', ' ', 'c', ' ', 'p', ' ', 'e', 'k', ' ', 'v', 'n', ' ', ' ', 'r', ' ', ',', 'n', 's', 'v', 'r', 's', ' ', 'a', ' ', ' ', ' ', 'r', ' ', 'n', ' ', 'd', ' ', ' ', ' ', 's', ' ', 'd', ' ', 'y', 's', 'n', '.', ' ', 'n', 'a', ' ', ' ', ' ', 'a', 's', 't', ' ', ' ', ' ', ' ', 't', ' ', ' ', 'd', 'd', ' ', ' ', ' ', 'd', ' ', ' ', 'w', ' ', 'r', ' ', '.', ' ', 'n', ' ', 'l', 's', 'e', 'n', 'd', ' ', 'd', 'r', ' ', 't', 'l', ' ', 'd', 'r', ' ', ',', ' ', 'a', 'n', 's', 'r', 'l', 'm', 'd', ' ', ' ', 'r', 'r', ' ', ' ', ' ', 'r', ' ', ',', 'n', 'd', ' ', 's', ' ', ' ', 'r', 'n', 'd', ',', 'v', 'n', ' ', ',', ' ', 'd', ' ', 'e', 't', ' ', 'd', 's', 'r', ' '], 'r': [' ', 'i', 'i', 'e', 'i', 't', 'e', 't', 'o', 's', 'y', 'e', 'l', 'i', 'o', 'i', 'a', 'e', ',', 'g', ' ', ' ', 'm', 'e', 'e', 't', 'u', 'e', ' ', 's', 'y', 'k', 'e', 'i', 'r', 'e', 'i', 's', 't', 'i', 'e', 'a', ' ', 't', 'i', ' ', 'i', 'e', 'a', ' ', 'm', 'o', 'e', 'e', 'i', 'a', 'u', 'e', 'e', 'o', 'o', 'o', 'r', 'o', ' ', 'm', 't', 'f', 'i', 'n', 'd', 'e', 'u', 'e', 'e', ' ', 'a', 'e', 'e', 'e', 'a', 'e', 'm', 't', ' ', 'y', ',', 'a', 'o', 's', 'a', ' ', ' ', 'o', 'l', 'e', 'e', 'l'], ' ': ['i', 'w', 'a', 'b', 'c', 'd', 'i', 'A', 'a', 't', 'c', 'w', 's', 't', 'W', 'S', 'h', 'c', 'n', 'i', 'h', 'b', 'i', 'a', 'e', 't', 'e', 't', 'v', 'w', 's', 'q', 't', 't', 'g', 'd', 'o', 'V', 'M', 't', 'n', 'q', 'e', 't', 'p', 'a', 's', 'o', 'g', 'd', 'f', 'e', 'a', 'w', 'h', 'h', 's', 'o', 'b', 'c', 'a', 'o', 'r', 'm', 'A', 'o', 'e', 'o', 'i', 'a', 'c', 'p', 't', 'l', 'f', 'i', 'd', 'h', 'b', 't', 't', 't', 'w', 'I', 'd', 's', 'a', 'e', 'f', 'm', 't', 'a', 'm', 'w', 't', 'f', 'o', 'a', 'm', 'o', 'a', 'f', 'w', 'a', 'h', 'b', 'm', 'a', 'r', 'h', 'f', 'W', 'm', 'f', 't', 's', 'I', 'w', 'n', 'u', 't', 't', 'l', 'E', 'a', 't', 'b', 'o', 't', 'i', 'w', 's', 'w', 'a', 'a', 'p', 't', 'e', 'c', 'w', 'c', 'o', 'd', 'd', 'h', 'I', 'w', 'p', 'o', 't', 'e', 'd', 'i', 'p', 'f', 'H', 'W', 'T', 'f', 'w', 's', 'f', 'u', 'a', 'W', 'w', 'w', 't', 'a', 'h', 'a', 'v', 'u', 'a', 'h', 'r', 'a', 'w', 's', 'r', 's', 't', 'o', 't', 'w', 'O', 'e', 'l', 'o', 't', 'l', 't', 'p', 'w', 't', 'e', 'f', 'g', 'f', 't', 'w', 'I', 'w', 'o', 'o', 't', 'p', 'w', 'a', 's', 'c', 't', 't', 'e', 'f', 'y', 'a', 'w', 'y', 'm', 'B', 'B', 'I', 'W', 'Y', 't', 'c', 'b', 'i', 'r', 't', 'f', 'a', 'f', 'v', 'w', 'r', 'o', 'a', 'l', 'o', 'f', 'w', 'h', 's', 't', 'd', 'w', 't', 'p', 'o', 'p', 'T', 'v', 'c', 'f', 'a', 'o', 'm', 'p', 'l', 'a', 'd', 'm', 'w', 'f', 'p', 'o', 't', 's', 'o', 't', 'r', 'w', 'W', 't', 'a', 's', 'a', 't', 'v', 's', 's', 't', 't', 'w', 'w', 's', 'd', 'T', 'i', '(', 't', 'i', 'w', 'c', 'c', 'b', 'd', 'b', 't', 'w', 'n', 'w', 'o', 's', 'i', 'o', 'c', 'H', 'm', 'o', 't', 't', 'w', 'a', 's', 'f', 'f', 't', 'm', 'o', 'h', 'b', 'm', 'e', 'b', 't', 'b', 'o', 'w', 'w', 't', 'u', 'o', 't', 'p', 'H', 'h', 'w', 'v', 'f', 'h', 'f', 'n', 's', 'h', 's', 'r', 'b', 'c', 's', 'a', 'b', 'r', 'b', 'a', 't', 'c', 'o', 't', 'w', 't', 'h', 'j', 'e', 'e', 't', 't', 's', 'w', 't', 'w', 'l', 'c', 'D', 'i', 't', 's', 'l', 'e', 'o', 'w', 'w', 'w', 'd'], 'i': ['\\n', 'g', 'n', 'l', 'k', 'n', 'r', 'n', 't', 's', 'n', 'n', 's', 'n', 'l', 'n', 'p', 'c', 'c', 'o', 'c', 'r', 't', 'n', 't', 'm', 'l', 't', 'n', 's', 'c', 'm', 'd', 'v', 't', 'n', 'r', 'n', 'f', 'm', 't', 'n', 'c', 'n', 'g', 'v', 'n', 'o', 'g', 'n', 'r', 'n', 'c', 's', 'g', 'n', 'm', 'n', 't', 'f', 't', 'c', 'c', 'v', 'o', 't', 'd', 't', 'c', 'n', 's', 'g', 'c', 'n', 't', 'o', 'g', 'r', 'c', 'k', 'r', 'c', 'g', 'n', 't', 'c', 'l', 's', 'n', 's', 'n', 't', 'm', 'n', 't', 'n', 's', 'l', 'g', 's', 'z', 'c', 'f', 's', 'r', 'r', 's', 'n', 's', 'n', 'n', 'd', 'n', 'n', 't', 'e', 'n', 'r', 'n'], '\\n': ['\\n', 'I', '\\n', 'T', '\\n', 'I', '\\n', 'O'], 'I': ['t', 't', 't', 't', 't', 'G', 'S', 'N', 'n'], 'w': ['a', 'e', 'i', 'i', 'i', 'a', 'a', 'i', 'i', 'a', 'a', 'o', 'a', 'a', 'a', 'h', 'a', 'e', 'l', 'a', 'i', 'a', 'a', 'h', ' ', 'h', 'a', 'h', 'i', 'h', 'a', 'i', 'h', 'o', 'e', 'a', 'a', 'a', 'i', ':', 'h', 'e', 'a', 'i', 'i', '-', 'o', 'n', 'i', 'e', 'h'], 's': [' ', ' ', 't', 't', ' ', ' ', 't', 'c', 'l', 's', ' ', ' ', 'i', ',', 'w', 't', 'm', '.', 't', 'p', 'i', ' ', 't', 'o', '.', 't', 't', '.', ' ', 'e', 't', ' ', ' ', 'e', 'e', ' ', '.', ' ', ' ', 'e', ' ', 't', ' ', 'e', ' ', 'l', 't', 'e', ' ', 'i', 'h', 't', ' ', ' ', 'e', ' ', 'o', ' ', 'i', ' ', 't', ' ', 'o', 'u', 't', 'w', 'a', 'o', ' ', 't', 't', 'h', 't', 'c', ' ', ' ', 'h', 'm', 'h', 's', ' ', ' ', 'i', ' ', ' ', ' ', ' ', 'a', ' ', 'k', 'e', 'o', ' ', 't', 'i', 'h', 't', ' ', 't'], 'b': ['r', 'r', 'o', 'b', 'a', 'e', 'o', 'l', 'e', 'o', 'o', 'e', 'l', 'l', 'e', 'u', 'o', 'y', 'l', 'y', 'l', 'l'], 'g': ['h', ' ', 'h', 'l', 'h', 'h', 'r', ' ', ' ', 'e', ' ', 'e', 'g', 'e', ' ', ',', ' ', 'h', 'h', 'h', ' ', ',', 'a', ' ', 'u', ' ', '-', ' ', 'h', 'h', 'u', ' ', 'u', 'r', 'u', 'h', 'h', ' '], 'c': ['o', 'l', 'k', 'h', 'a', 'k', 't', 'k', 'a', 'o', 'k', 't', 'e', 'e', 'k', 'h', 't', ' ', 'u', 'u', 'o', 'o', 'e', 'h', 'e', 't', 'h', 'o', 'a', 'e', 'h', 't', 'e', 'a', 'h', 'e', 'h', 'e', 'r', 'a', 'o', 'o', 'h', 'e', 'o', 'o', 'o'], 'o': ['l', 'c', 'n', ' ', 'r', ' ', 'u', 'o', 'r', 'f', 'r', 'n', 'u', 't', 'u', ' ', 'f', 'm', 'n', 'f', 'i', 'l', 'n', 'f', 'l', 'u', 's', 'o', ' ', 'r', 'o', 'r', ' ', 'r', 'u', 'r', 'f', 'f', 'u', 'r', 'u', 'm', 'n', 'r', ' ', 'f', 'm', 'r', 'f', 'u', 'f', 'n', 'm', 'n', 'r', 'n', ' ', 's', 'v', 'w', 'n', 'p', 's', 's', 'r', 'u', 'm', 'n', 'f', 's', ' ', 'n', 'l', 'w', 'u', 'u', 'u', 'v', 'n', 'i', 'u', 'f', 'm', ' ', ' ', 'd', 'n', 'f', 'n', 'i', 'm', 'b', 'n', 'r', 'r', 'f', 'f', 'n', 'i', 'm', 'u', 'r', 'u', ' ', 'f', 'f', 'm', 'v', 'v', ' ', 'w', 'f', 'd', 'v', 'r', 'f', 'u', 'a', 'a', 'r', 'l', 'f', 'u', 'w', 'r', 'o', 'k', 'l', 'w', 'f'], 'l': ['d', ',', 'o', 'e', 'e', 'i', 'y', 'a', 'y', ' ', 'o', 'l', 'w', 't', 'e', 'd', 'o', 'a', 'a', 'l', '.', 'y', 'a', 'y', 'i', 'd', 'e', 'i', 'a', 'i', 'c', 'e', 'o', 'y', ' ', 'a', 'i', 'l', '.', 'l', 'o', 'a', 'i', 'o', ' ', 'a', 'i', 'l', 'e', 'l', '.', 'l', ' ', 'e', 'e', 'l', 'e', 'd', 'e', 'y', 'l', 'i', ' ', 'y', 'u', 'l', 's', 'l', 'y', 'u', 'a', 'd', 'd', 'o', 'd', 'i', 'e', 'i'], 'd': [' ', 'a', ' ', ' ', ',', ' ', 'o', 'u', ' ', ' ', ' ', ' ', ' ', 'o', 'i', ' ', ' ', 'e', ' ', 'e', ' ', 'l', 's', 'e', 'o', ' ', 'u', 'a', 'r', ' ', ' ', ' ', 'i', ' ', ' ', 'e', 'i', ' ', 'o', 'u', 'u', ' ', ' ', ' ', ' ', ' ', 's', 'i', ')', ' ', 'i', ',', ' ', 'o', 'y', ' ', ' ', ' ', 'e', ' ', ' ', ' ', 'e', '.', 'e', 'o', ' ', ' ', '.', 'd', 'i', ' ', 'u'], 'y': [' ', ' ', ' ', ' ', ' ', ' ', ',', ' ', '-', ' ', ' ', 'i', 'l', ' ', '-', ',', '.', 'e', 'o', 'o', ' ', ' ', '.', ' ', ' ', ' ', '.', ' ', ' ', ' '], 'n': [' ', 'd', 'g', '.', 's', ' ', ' ', 'u', 't', ' ', ' ', 'd', 's', 's', 'o', 'o', 't', 't', 'g', 'g', 'd', 'e', 'd', 'd', ' ', ' ', 'o', ' ', ' ', 'd', 'd', 's', ' ', 'o', 'g', ' ', 'g', 'd', 't', 't', 'g', 'o', ' ', ' ', ' ', 'd', 's', ',', 'i', 'e', 'd', 'k', 't', 'g', ' ', ' ', 'd', 'g', 'o', 'e', 't', ' ', ' ', 'e', '.', 's', 'g', 'g', ' ', '.', ' ', 'g', 'd', 's', ' ', 'e', 'd', 'k', 'g', 's', 't', ',', 'o', 'g', 'd', 'e', 'i', 'a', 'g', 'e', ' ', 'e', 'd', 't', 'd', 't', 'd', ' ', 'd', 'e', ' ', ' ', 'd', 'g'], 'A': ['p', 't', 'T'], ',': [' ', ' ', ' ', ' ', ' ', ' ', ' ', ' ', ' ', ' ', ' ', ' ', ' ', ' ', ' ', ' ', ' ', ' ', ' ', ' ', ' ', ' ', ' ', ' ', ' '], 'k': ['s', 'i', 'l', 'l', 'e', ' ', 'i', '.', 'l', 'e', ' ', 'i', 'e'], '.': [' ', '\\n', ' ', ' ', ' ', ' ', ' ', ' ', ' ', ' ', ' ', ' ', '\\n', ' ', ' ', ' ', ' ', ' ', '\\n', ' '], 'W': ['i', 'i', 'e', 'i', 'A', 'i'], 'S': ['m', ' '], 'm': ['i', ' ', '.', 'e', 'a', 'p', 'o', 'o', 'e', 'a', 'o', 'e', 'a', 'e', ' ', 'y', 'e', 'o', ' ', 'o', 'e', 'e', ' ', 'e', 'i', 'e', 'e', 'e', 'm', 'e', 'p', 'o', 'a', 'e', 'e', 'p', ' '], 'u': ['z', 'i', 'g', 'g', 'i', 'g', 's', 'r', 's', 't', 's', 'g', 'r', 's', 'r', 't', 'r', 'r', 'p', 'l', 's', 'r', ' ', 't', ' ', 'i', 't', 'r', 'c', 'e', 'l', 'r', 'r', 'g', 'i', 'm', 'l', 't', 't', 'r', 'e', 'n', 'r', 'i', 'g', 'n', 's', 't', 'g', 't', 's'], 'z': ['z', 'l', 'e', 'e', 'o'], 'f': ['f', 'o', ' ', ' ', 'r', ' ', ' ', 'o', 'a', 'a', ' ', ' ', 'o', 'i', 'e', 'o', 't', ' ', 'f', ' ', ' ', 'o', 'l', 'l', 't', 't', 'a', 'r', ' ', 'o', 'l', 'r', ' ', 'i', ' ', 'r', 'o', ' ', 'a', ' ', ' ', 'f', ' ', 'r', 'i', ' ', 'o', ' ', 'a', 'a', ' ', ' '], 'v': ['i', 'e', 'e', 'y', 'e', 'e', 'e', 'a', 'e', 'e', 'e', 'e', 'o', 'o', 'o', 'e', 'e', 'e', 'e', 'e'], 'q': ['u', 'u', 'u'], 'V': ['i'], 'M': ['a'], 'T': ['h', 'h', 'H', 'C', 'h', 'h'], ':': [' ', ' '], '-': ['f', 'n', 's', 'i', 'h', 'p'], 'E': ['v', 'R'], 'H': ['a', 'E', 'I', 'e', 'i'], 'O': ['n', 'T', 'U', 'u'], 'B': ['I', 'R'], 'G': [' ', ' '], 'R': ['O', ' '], 'N': ['G'], 'Y': ['O'], 'U': [','], '(': ['t'], ')': [' '], 'j': ['u'], 'D': ['o']}\n"
     ]
    }
   ],
   "source": [
    "print(chars_next)"
   ]
  },
  {
   "cell_type": "markdown",
   "id": "572ee6cb-4403-4e2c-b095-ac362662c4e6",
   "metadata": {},
   "source": [
    "# Compito\n",
    "* Chiedere al utente una lettera inniziale e la lunghezza del testo.\n",
    "* Cercare nel dizionario la lettera iniziale  e sorteggiare un carattere a caso dalla lista corrispondente. Usare questo carattere come carattere succesivo alla lettera iniziale.\n",
    "* A questo punto la nuova lettera iniziale corrisponde al carattere appena sorteggiato e itero il procedimento fino ad ottere un testo della lunghezza desiderata."
   ]
  },
  {
   "cell_type": "code",
   "execution_count": 7,
   "id": "ebc7aea0-d944-414d-b7e5-1d4af724e335",
   "metadata": {},
   "outputs": [],
   "source": [
    "import random"
   ]
  },
  {
   "cell_type": "code",
   "execution_count": 8,
   "id": "9b3ba175-86a7-4af8-a0f0-8f6ac5043ba4",
   "metadata": {},
   "outputs": [],
   "source": [
    "def letters (strings_out, n, start):\n",
    "    if len(strings_out) == n:\n",
    "        return strings_out\n",
    "    letter = random.choice(chars_next[start])\n",
    "    strings_out += letter\n",
    "    return letters(strings_out, n, letter)"
   ]
  },
  {
   "cell_type": "code",
   "execution_count": 9,
   "id": "296b9964-46ca-4474-82a0-88cd701fd946",
   "metadata": {},
   "outputs": [
    {
     "name": "stdin",
     "output_type": "stream",
     "text": [
      "Inserire una lettera -> c\n",
      "Inserire il numero di estarzioni 400\n"
     ]
    }
   ],
   "source": [
    "start = input(\"Inserire una lettera ->\")\n",
    "n = int(input(\"Inserire il numero di estarzioni\"))"
   ]
  },
  {
   "cell_type": "code",
   "execution_count": 10,
   "id": "f14ad3a5-46c4-4906-9ad6-25b67aeb727a",
   "metadata": {},
   "outputs": [
    {
     "name": "stdout",
     "output_type": "stream",
     "text": [
      "che. po e s duivos. w acledy wif fedig abon ankl. wasl. that om. then onar wayin, hanghedofof mo of s whicergete t porshr worerons t clly fompicad l d bore Wit hin ty bles t tt an f ap EROThef e, e toaithistitthulyofr wash thticondearicowly. shede che sens r, t foug bl, thek wan t dif wid.\n",
      "\n",
      "\n",
      "\n",
      "THEve, Oursee se ofoughe thed fily ed thed pt oueen iondoarmphithary ed fivongharthed doll, ch s masme the\n"
     ]
    }
   ],
   "source": [
    "strings_out = letters(start, n, start)\n",
    "print(strings_out)"
   ]
  },
  {
   "cell_type": "code",
   "execution_count": null,
   "id": "24ede443-1eec-47a3-b351-0562184bfdc1",
   "metadata": {},
   "outputs": [],
   "source": []
  }
 ],
 "metadata": {
  "kernelspec": {
   "display_name": "Python 3 (ipykernel)",
   "language": "python",
   "name": "python3"
  },
  "language_info": {
   "codemirror_mode": {
    "name": "ipython",
    "version": 3
   },
   "file_extension": ".py",
   "mimetype": "text/x-python",
   "name": "python",
   "nbconvert_exporter": "python",
   "pygments_lexer": "ipython3",
   "version": "3.13.5"
  }
 },
 "nbformat": 4,
 "nbformat_minor": 5
}
