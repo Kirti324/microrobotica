{
 "cells": [
  {
   "cell_type": "markdown",
   "id": "8b8ad1c4-794f-4e4a-a2df-8da9c6e06dae",
   "metadata": {},
   "source": [
    "# Un modello matematicp del testo in linguaggio naturale\n",
    "\n",
    "Questo modello ci aiuterà a capire come funzionano i **LLM** (Large Language Model).\n",
    "\n",
    "* I LLLM sono le reti neurali alla base dell'AI generativa.\n",
    "\n",
    "* I LLM generano il testo mediante un processo detto **autoregressione**: quando fornimamo un prompt all'AI generatiova, il LLM genera la risposta **token** per **token**. A ogni istante della generazione della risposta, LLM prende in input tutti i token del prompt e tutti i nuovi token che ha generato fino a quel momento."
   ]
  },
  {
   "cell_type": "code",
   "execution_count": 18,
   "id": "743c1540-26be-4eb6-9d86-ced9f9236d26",
   "metadata": {},
   "outputs": [],
   "source": [
    "# importazioni librerie\n",
    "import random"
   ]
  },
  {
   "cell_type": "code",
   "execution_count": 11,
   "id": "1f040f5d-7c43-4dc1-adb9-ca5bb837aea3",
   "metadata": {},
   "outputs": [],
   "source": [
    "# Caricamento input\n",
    "file = open(\"./sei_personaggi_in_cerca_dautore_Luigi_Pirandello.txt\", 'r', encoding=\"utf-8\")\n",
    "text = file.read()"
   ]
  },
  {
   "cell_type": "code",
   "execution_count": 12,
   "id": "52b6f7b4-4030-4c64-99cb-a92c12ebb8ec",
   "metadata": {},
   "outputs": [],
   "source": [
    "# Pre-rpocessing\n",
    "text = text.replace(\"\\n\", ' ').lower()\n",
    "for _ in range(2):\n",
    "    text = text.replace(\"  \", \" \")"
   ]
  },
  {
   "cell_type": "code",
   "execution_count": 27,
   "id": "b87afc17-7b50-4d71-b232-426b598a0679",
   "metadata": {},
   "outputs": [],
   "source": [
    "# i nostri token sono sempre un carattere\n",
    "l_context = 6\n",
    "markov_dict = {}\n",
    "for i, _ in enumerate(text[:-l_context]):\n",
    "    ngram = text[i:i+l_context]\n",
    "    if ngram in markov_dict:\n",
    "        markov_dict[ngram].append(text[i+l_context])\n",
    "    else:\n",
    "        markov_dict[ngram] = [text[i+l_context]]"
   ]
  },
  {
   "cell_type": "code",
   "execution_count": 28,
   "id": "1b55aba9-32f8-4ee6-9936-b39b436eba34",
   "metadata": {},
   "outputs": [
    {
     "data": {
      "text/plain": [
       "['r', 'r', 'r', 'r', 'r', 'r']"
      ]
     },
     "execution_count": 28,
     "metadata": {},
     "output_type": "execute_result"
    }
   ],
   "source": [
    "markov_dict[\"sei pe\"]"
   ]
  },
  {
   "cell_type": "markdown",
   "id": "91fb797d-ca71-444a-b470-c4152b1e2d96",
   "metadata": {},
   "source": [
    "Il dizionario `markov_dict`è un modello matematico del linguaggio naturale che ora usiamo per costruire un autoregressione Markoviano"
   ]
  },
  {
   "cell_type": "code",
   "execution_count": 29,
   "id": "12686279-0604-4bbc-b7ec-426ef2755ef3",
   "metadata": {},
   "outputs": [],
   "source": [
    "ngram_0 = \"sei pe\"\n",
    "l_phrase = 100\n",
    "phrase = ngram_0\n",
    "if len(ngram_0) != l_context:\n",
    "    print(\"Errore!\")\n",
    "else:\n",
    "    for _ in range(l_phrase):    \n",
    "        if ngram_0 in markov_dict:\n",
    "            next_char = random.choice(markov_dict[ngram_0])\n",
    "            phrase = phrase + next_char\n",
    "            ngram_0 = phrase[-l_context:]\n",
    "        else:\n",
    "            break"
   ]
  },
  {
   "cell_type": "code",
   "execution_count": 30,
   "id": "2772125e-3b55-4487-bd1e-b9df8feecaee",
   "metadata": {},
   "outputs": [
    {
     "data": {
      "text/plain": [
       "'sei personaggi. il direttore che si salutandola). noi stessa ragione e arrivare alla sua inteso? non si se'"
      ]
     },
     "execution_count": 30,
     "metadata": {},
     "output_type": "execute_result"
    }
   ],
   "source": [
    "phrase"
   ]
  },
  {
   "cell_type": "markdown",
   "id": "46773424-a361-4d53-9833-f5e483a9804c",
   "metadata": {},
   "source": [
    "# compito\n",
    "classe che imprementa l'autorigrezzione Markoviana\n",
    "facoltativo: usa più di un testo es metodo learn"
   ]
  },
  {
   "cell_type": "code",
   "execution_count": null,
   "id": "31a0ac5d-3788-4fca-b4b7-aae42003343a",
   "metadata": {},
   "outputs": [],
   "source": []
  }
 ],
 "metadata": {
  "kernelspec": {
   "display_name": "Python 3 (ipykernel)",
   "language": "python",
   "name": "python3"
  },
  "language_info": {
   "codemirror_mode": {
    "name": "ipython",
    "version": 3
   },
   "file_extension": ".py",
   "mimetype": "text/x-python",
   "name": "python",
   "nbconvert_exporter": "python",
   "pygments_lexer": "ipython3",
   "version": "3.13.5"
  }
 },
 "nbformat": 4,
 "nbformat_minor": 5
}
